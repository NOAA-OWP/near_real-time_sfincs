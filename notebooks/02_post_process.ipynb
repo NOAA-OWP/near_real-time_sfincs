{
 "cells": [
  {
   "cell_type": "markdown",
   "id": "e47afe5d-2378-408d-9f4c-2f7a1495212f",
   "metadata": {},
   "source": [
    "# Visualization / Creating Flood Mask\n",
    "### Author: Tadd Bindas\n",
    "\n",
    "This file reads the results of sfincs and writes the `hmax.tif` file, which describes flood extent"
   ]
  },
  {
   "cell_type": "code",
   "execution_count": 1,
   "id": "7162f0cb-6170-4523-9981-09b00cda56cd",
   "metadata": {},
   "outputs": [],
   "source": [
    "import os\n",
    "from os.path import join\n",
    "from os.path import abspath, basename, dirname, isabs, isfile\n",
    "from pathlib import Path\n",
    "\n",
    "import matplotlib.pyplot as plt\n",
    "import numpy as np\n",
    "import rioxarray as rxr\n",
    "import xarray as xr\n",
    "\n",
    "from hydromt_sfincs import SfincsModel, utils"
   ]
  },
  {
   "cell_type": "code",
   "execution_count": 2,
   "id": "888bf691-a4af-4f26-b47b-643851c0ea44",
   "metadata": {},
   "outputs": [],
   "source": [
    "sfincs_root = Path.cwd() / \"../data/SFINCS/ngwpc_data_huc8\"\n",
    "sf = SfincsModel(sfincs_root, mode=\"r\")"
   ]
  },
  {
   "cell_type": "markdown",
   "id": "9976ea3e-43bf-4131-9fd3-d3c147703342",
   "metadata": {},
   "source": [
    "*NOTE: the below command sometimes throws an error. If you rerun it, it works*"
   ]
  },
  {
   "cell_type": "code",
   "execution_count": 3,
   "id": "9913e9a8-7c2f-4216-805f-c29e63617d10",
   "metadata": {
    "scrolled": true
   },
   "outputs": [],
   "source": [
    "sf.read_results()"
   ]
  },
  {
   "cell_type": "code",
   "execution_count": 4,
   "id": "e9b2cee1-cb3b-4b4b-8871-c74f6e73ae61",
   "metadata": {},
   "outputs": [],
   "source": [
    "sf.write_raster(\"results.hmax\", compress=\"LZW\")"
   ]
  },
  {
   "cell_type": "markdown",
   "id": "495928ed-680a-4f85-b90f-90acdefa9c1e",
   "metadata": {},
   "source": [
    "Our flood extent file has been written. Now, it's time to compare the different methods to see how they did"
   ]
  },
  {
   "cell_type": "code",
   "execution_count": null,
   "id": "706f70ca-c241-4a14-8820-3cc7f06cc030",
   "metadata": {},
   "outputs": [],
   "source": []
  }
 ],
 "metadata": {
  "kernelspec": {
   "display_name": "Python 3 (ipykernel)",
   "language": "python",
   "name": "python3"
  },
  "language_info": {
   "codemirror_mode": {
    "name": "ipython",
    "version": 3
   },
   "file_extension": ".py",
   "mimetype": "text/x-python",
   "name": "python",
   "nbconvert_exporter": "python",
   "pygments_lexer": "ipython3",
   "version": "3.11.6"
  }
 },
 "nbformat": 4,
 "nbformat_minor": 5
}
